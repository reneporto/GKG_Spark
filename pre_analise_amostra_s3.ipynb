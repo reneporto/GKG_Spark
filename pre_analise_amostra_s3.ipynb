{
 "cells": [
  {
   "cell_type": "markdown",
   "id": "24b47f0a",
   "metadata": {},
   "source": [
    "# Pré-análise da amostra\n",
    "\n",
    "Analise de uma amostra do dataset **GDELT 2.0: Our Global World in Realtime**:\n",
    "- Quantidade de linhas\n",
    "- Quantidade de linhas duplicadas\n",
    "- Analise das colunas"
   ]
  },
  {
   "cell_type": "code",
   "execution_count": 1,
   "id": "b6863ea4",
   "metadata": {
    "ExecuteTime": {
     "end_time": "2022-04-30T15:23:26.981834Z",
     "start_time": "2022-04-30T15:23:26.667272Z"
    }
   },
   "outputs": [],
   "source": [
    "import funcoes_s3"
   ]
  },
  {
   "cell_type": "code",
   "execution_count": 2,
   "id": "333abf0b",
   "metadata": {
    "ExecuteTime": {
     "end_time": "2022-04-30T15:23:27.662847Z",
     "start_time": "2022-04-30T15:23:27.659397Z"
    }
   },
   "outputs": [],
   "source": [
    "import pandas as pd\n",
    "import boto3\n",
    "from botocore import UNSIGNED\n",
    "from botocore.client import Config\n",
    "import warnings\n",
    "warnings.filterwarnings(\"ignore\")"
   ]
  },
  {
   "cell_type": "code",
   "execution_count": 33,
   "id": "80064abb",
   "metadata": {
    "ExecuteTime": {
     "end_time": "2022-04-30T16:37:34.593114Z",
     "start_time": "2022-04-30T16:37:34.589690Z"
    }
   },
   "outputs": [],
   "source": [
    "from pyspark.sql import SparkSession\n",
    "from pyspark.sql.types import StructType,StructField, StringType, IntegerType"
   ]
  },
  {
   "cell_type": "code",
   "execution_count": 3,
   "id": "0b2c3732",
   "metadata": {
    "ExecuteTime": {
     "end_time": "2022-04-30T15:23:32.499658Z",
     "start_time": "2022-04-30T15:23:28.373812Z"
    }
   },
   "outputs": [
    {
     "name": "stderr",
     "output_type": "stream",
     "text": [
      "22/04/30 16:23:29 WARN Utils: Your hostname, SBS-RENPOR resolves to a loopback address: 127.0.1.1; using 172.30.197.0 instead (on interface eth0)\n",
      "22/04/30 16:23:29 WARN Utils: Set SPARK_LOCAL_IP if you need to bind to another address\n",
      "WARNING: An illegal reflective access operation has occurred\n",
      "WARNING: Illegal reflective access by org.apache.spark.unsafe.Platform (file:/home/rene/anaconda3/lib/python3.9/site-packages/pyspark/jars/spark-unsafe_2.12-3.1.2.jar) to constructor java.nio.DirectByteBuffer(long,int)\n",
      "WARNING: Please consider reporting this to the maintainers of org.apache.spark.unsafe.Platform\n",
      "WARNING: Use --illegal-access=warn to enable warnings of further illegal reflective access operations\n",
      "WARNING: All illegal access operations will be denied in a future release\n",
      "22/04/30 16:23:30 WARN NativeCodeLoader: Unable to load native-hadoop library for your platform... using builtin-java classes where applicable\n",
      "Using Spark's default log4j profile: org/apache/spark/log4j-defaults.properties\n",
      "Setting default log level to \"WARN\".\n",
      "To adjust logging level use sc.setLogLevel(newLevel). For SparkR, use setLogLevel(newLevel).\n",
      "22/04/30 16:23:31 WARN Utils: Service 'SparkUI' could not bind on port 4040. Attempting port 4041.\n"
     ]
    }
   ],
   "source": [
    "from pyspark.sql import SparkSession\n",
    "\n",
    "# build our own SparkSession\n",
    "myspark = SparkSession\\\n",
    "    .builder\\\n",
    "    .appName(\"BigData\")\\\n",
    "    .config(\"spark.sql.shuffle.partitions\",6)\\\n",
    "    .config(\"spark.sql.repl.eagereval.enabled\",True)\\\n",
    "    .getOrCreate()"
   ]
  },
  {
   "cell_type": "code",
   "execution_count": 4,
   "id": "9d7e195f",
   "metadata": {
    "ExecuteTime": {
     "end_time": "2022-04-30T15:23:32.506933Z",
     "start_time": "2022-04-30T15:23:32.502278Z"
    }
   },
   "outputs": [
    {
     "name": "stdout",
     "output_type": "stream",
     "text": [
      "<pyspark.sql.session.SparkSession object at 0x7f656ef2ca30>\n"
     ]
    }
   ],
   "source": [
    "# print SparkSession object\n",
    "print(myspark)"
   ]
  },
  {
   "cell_type": "code",
   "execution_count": 5,
   "id": "c4bd178c",
   "metadata": {
    "ExecuteTime": {
     "end_time": "2022-04-30T15:23:41.393634Z",
     "start_time": "2022-04-30T15:23:41.379343Z"
    }
   },
   "outputs": [
    {
     "data": {
      "text/html": [
       "\n",
       "            <div>\n",
       "                <p><b>SparkSession - in-memory</b></p>\n",
       "                \n",
       "        <div>\n",
       "            <p><b>SparkContext</b></p>\n",
       "\n",
       "            <p><a href=\"http://172.30.197.0:4041\">Spark UI</a></p>\n",
       "\n",
       "            <dl>\n",
       "              <dt>Version</dt>\n",
       "                <dd><code>v3.1.2</code></dd>\n",
       "              <dt>Master</dt>\n",
       "                <dd><code>local[*]</code></dd>\n",
       "              <dt>AppName</dt>\n",
       "                <dd><code>BigData</code></dd>\n",
       "            </dl>\n",
       "        </div>\n",
       "        \n",
       "            </div>\n",
       "        "
      ],
      "text/plain": [
       "<pyspark.sql.session.SparkSession at 0x7f656ef2ca30>"
      ]
     },
     "execution_count": 5,
     "metadata": {},
     "output_type": "execute_result"
    }
   ],
   "source": [
    "# check it, including the link\n",
    "myspark"
   ]
  },
  {
   "cell_type": "markdown",
   "id": "c5896e60",
   "metadata": {},
   "source": [
    "## Download dos ficheiros de amostra"
   ]
  },
  {
   "cell_type": "code",
   "execution_count": 17,
   "id": "41a0f490",
   "metadata": {
    "ExecuteTime": {
     "end_time": "2022-04-30T15:33:27.486476Z",
     "start_time": "2022-04-30T15:33:27.483701Z"
    }
   },
   "outputs": [],
   "source": [
    "data_path = \"/mnt/c/Users/Rene Porto/OneDrive - ISCTE-IUL/Projecto Big Data/Data/\""
   ]
  },
  {
   "cell_type": "code",
   "execution_count": 7,
   "id": "f8d7256a",
   "metadata": {
    "ExecuteTime": {
     "end_time": "2022-04-30T15:23:45.639837Z",
     "start_time": "2022-04-30T15:23:45.499064Z"
    }
   },
   "outputs": [
    {
     "data": {
      "text/html": [
       "<div>\n",
       "<style scoped>\n",
       "    .dataframe tbody tr th:only-of-type {\n",
       "        vertical-align: middle;\n",
       "    }\n",
       "\n",
       "    .dataframe tbody tr th {\n",
       "        vertical-align: top;\n",
       "    }\n",
       "\n",
       "    .dataframe thead th {\n",
       "        text-align: right;\n",
       "    }\n",
       "</style>\n",
       "<table border=\"1\" class=\"dataframe\">\n",
       "  <thead>\n",
       "    <tr style=\"text-align: right;\">\n",
       "      <th></th>\n",
       "      <th>filename</th>\n",
       "      <th>size_b</th>\n",
       "      <th>year</th>\n",
       "      <th>year_month</th>\n",
       "      <th>year_month_day</th>\n",
       "    </tr>\n",
       "  </thead>\n",
       "  <tbody>\n",
       "    <tr>\n",
       "      <th>143031</th>\n",
       "      <td>20190412103000.gkg.csv</td>\n",
       "      <td>25805635</td>\n",
       "      <td>2019</td>\n",
       "      <td>201904</td>\n",
       "      <td>20190412</td>\n",
       "    </tr>\n",
       "    <tr>\n",
       "      <th>143083</th>\n",
       "      <td>20190412233000.gkg.csv</td>\n",
       "      <td>30725134</td>\n",
       "      <td>2019</td>\n",
       "      <td>201904</td>\n",
       "      <td>20190412</td>\n",
       "    </tr>\n",
       "    <tr>\n",
       "      <th>143056</th>\n",
       "      <td>20190412164500.gkg.csv</td>\n",
       "      <td>38179531</td>\n",
       "      <td>2019</td>\n",
       "      <td>201904</td>\n",
       "      <td>20190412</td>\n",
       "    </tr>\n",
       "    <tr>\n",
       "      <th>143071</th>\n",
       "      <td>20190412203000.gkg.csv</td>\n",
       "      <td>34977913</td>\n",
       "      <td>2019</td>\n",
       "      <td>201904</td>\n",
       "      <td>20190412</td>\n",
       "    </tr>\n",
       "    <tr>\n",
       "      <th>143040</th>\n",
       "      <td>20190412124500.gkg.csv</td>\n",
       "      <td>30679387</td>\n",
       "      <td>2019</td>\n",
       "      <td>201904</td>\n",
       "      <td>20190412</td>\n",
       "    </tr>\n",
       "  </tbody>\n",
       "</table>\n",
       "</div>"
      ],
      "text/plain": [
       "                      filename    size_b  year  year_month  year_month_day\n",
       "143031  20190412103000.gkg.csv  25805635  2019      201904        20190412\n",
       "143083  20190412233000.gkg.csv  30725134  2019      201904        20190412\n",
       "143056  20190412164500.gkg.csv  38179531  2019      201904        20190412\n",
       "143071  20190412203000.gkg.csv  34977913  2019      201904        20190412\n",
       "143040  20190412124500.gkg.csv  30679387  2019      201904        20190412"
      ]
     },
     "execution_count": 7,
     "metadata": {},
     "output_type": "execute_result"
    }
   ],
   "source": [
    "filenames = pd.read_csv(\"/mnt/c/Users/Rene Porto/OneDrive - ISCTE-IUL/Projecto Big Data/filename.csv\")\n",
    "\n",
    "day_20190412 = filenames[filenames['year_month_day']==20190412]\n",
    "day_20190412.sample(5)"
   ]
  },
  {
   "cell_type": "code",
   "execution_count": 8,
   "id": "ac7ee12f",
   "metadata": {
    "ExecuteTime": {
     "end_time": "2022-04-30T15:23:46.406661Z",
     "start_time": "2022-04-30T15:23:46.403333Z"
    }
   },
   "outputs": [],
   "source": [
    "day_20190412 = day_20190412['filename']\n",
    "print(f\"Quantidade de linhas para o dia 12/04/2019: {day_20190412.count()}\")"
   ]
  },
  {
   "cell_type": "code",
   "execution_count": 10,
   "id": "1b3596ab",
   "metadata": {
    "ExecuteTime": {
     "end_time": "2022-04-30T15:23:51.593463Z",
     "start_time": "2022-04-30T15:23:51.500327Z"
    }
   },
   "outputs": [],
   "source": [
    "# Configuração do S3\n",
    "s3_resource = boto3.resource('s3', config=Config(signature_version=UNSIGNED))\n",
    "bucket_name = 'gdelt-open-data' \n",
    "prefix = \"v2/gkg/\""
   ]
  },
  {
   "cell_type": "code",
   "execution_count": 11,
   "id": "fe9b54f9",
   "metadata": {
    "ExecuteTime": {
     "end_time": "2022-04-30T15:23:54.070732Z",
     "start_time": "2022-04-30T15:23:54.036459Z"
    }
   },
   "outputs": [
    {
     "name": "stdout",
     "output_type": "stream",
     "text": [
      "Already downloaded: 20190412000000.gkg.csv\n",
      "0\n",
      "Already downloaded: 20190412001500.gkg.csv\n",
      "0\n",
      "Already downloaded: 20190412003000.gkg.csv\n",
      "0\n",
      "Already downloaded: 20190412004500.gkg.csv\n",
      "0\n",
      "Already downloaded: 20190412010000.gkg.csv\n",
      "0\n",
      "Already downloaded: 20190412011500.gkg.csv\n",
      "0\n",
      "Already downloaded: 20190412013000.gkg.csv\n",
      "0\n",
      "Already downloaded: 20190412014500.gkg.csv\n",
      "0\n",
      "Already downloaded: 20190412020000.gkg.csv\n",
      "0\n",
      "Already downloaded: 20190412021500.gkg.csv\n",
      "0\n",
      "Already downloaded: 20190412023000.gkg.csv\n",
      "0\n",
      "Already downloaded: 20190412024500.gkg.csv\n",
      "0\n",
      "Already downloaded: 20190412030000.gkg.csv\n",
      "0\n",
      "Already downloaded: 20190412031500.gkg.csv\n",
      "0\n",
      "Already downloaded: 20190412033000.gkg.csv\n",
      "0\n",
      "Already downloaded: 20190412034500.gkg.csv\n",
      "0\n",
      "Already downloaded: 20190412040000.gkg.csv\n",
      "0\n",
      "Already downloaded: 20190412041500.gkg.csv\n",
      "0\n",
      "Already downloaded: 20190412043000.gkg.csv\n",
      "0\n",
      "Already downloaded: 20190412044500.gkg.csv\n",
      "0\n",
      "Already downloaded: 20190412050000.gkg.csv\n",
      "0\n",
      "Already downloaded: 20190412051500.gkg.csv\n",
      "0\n",
      "Already downloaded: 20190412053000.gkg.csv\n",
      "0\n",
      "Already downloaded: 20190412054500.gkg.csv\n",
      "0\n",
      "Already downloaded: 20190412060000.gkg.csv\n",
      "0\n",
      "Already downloaded: 20190412061500.gkg.csv\n",
      "0\n",
      "Already downloaded: 20190412063000.gkg.csv\n",
      "0\n",
      "Already downloaded: 20190412064500.gkg.csv\n",
      "0\n",
      "Already downloaded: 20190412070000.gkg.csv\n",
      "0\n",
      "Already downloaded: 20190412071500.gkg.csv\n",
      "0\n",
      "Already downloaded: 20190412073000.gkg.csv\n",
      "0\n",
      "Already downloaded: 20190412074500.gkg.csv\n",
      "0\n",
      "Already downloaded: 20190412080000.gkg.csv\n",
      "0\n",
      "Already downloaded: 20190412081500.gkg.csv\n",
      "0\n",
      "Already downloaded: 20190412083000.gkg.csv\n",
      "0\n",
      "Already downloaded: 20190412084500.gkg.csv\n",
      "0\n",
      "Already downloaded: 20190412090000.gkg.csv\n",
      "0\n",
      "Already downloaded: 20190412091500.gkg.csv\n",
      "0\n",
      "Already downloaded: 20190412093000.gkg.csv\n",
      "0\n",
      "Already downloaded: 20190412094500.gkg.csv\n",
      "0\n",
      "Already downloaded: 20190412100000.gkg.csv\n",
      "0\n",
      "Already downloaded: 20190412101500.gkg.csv\n",
      "0\n",
      "Already downloaded: 20190412103000.gkg.csv\n",
      "0\n",
      "Already downloaded: 20190412104500.gkg.csv\n",
      "0\n",
      "Already downloaded: 20190412110000.gkg.csv\n",
      "0\n",
      "Already downloaded: 20190412111500.gkg.csv\n",
      "0\n",
      "Already downloaded: 20190412113000.gkg.csv\n",
      "0\n",
      "Already downloaded: 20190412114500.gkg.csv\n",
      "0\n",
      "Already downloaded: 20190412120000.gkg.csv\n",
      "0\n",
      "Already downloaded: 20190412121500.gkg.csv\n",
      "0\n",
      "Already downloaded: 20190412123000.gkg.csv\n",
      "0\n",
      "Already downloaded: 20190412124500.gkg.csv\n",
      "0\n",
      "Already downloaded: 20190412130000.gkg.csv\n",
      "0\n",
      "Already downloaded: 20190412131500.gkg.csv\n",
      "0\n",
      "Already downloaded: 20190412133000.gkg.csv\n",
      "0\n",
      "Already downloaded: 20190412134500.gkg.csv\n",
      "0\n",
      "Already downloaded: 20190412140000.gkg.csv\n",
      "0\n",
      "Already downloaded: 20190412141500.gkg.csv\n",
      "0\n",
      "Already downloaded: 20190412143000.gkg.csv\n",
      "0\n",
      "Already downloaded: 20190412144500.gkg.csv\n",
      "0\n",
      "Already downloaded: 20190412150000.gkg.csv\n",
      "0\n",
      "Already downloaded: 20190412151500.gkg.csv\n",
      "0\n",
      "Already downloaded: 20190412153000.gkg.csv\n",
      "0\n",
      "Already downloaded: 20190412154500.gkg.csv\n",
      "0\n",
      "Already downloaded: 20190412160000.gkg.csv\n",
      "0\n",
      "Already downloaded: 20190412161500.gkg.csv\n",
      "0\n",
      "Already downloaded: 20190412163000.gkg.csv\n",
      "0\n",
      "Already downloaded: 20190412164500.gkg.csv\n",
      "0\n",
      "Already downloaded: 20190412170000.gkg.csv\n",
      "0\n",
      "Already downloaded: 20190412171500.gkg.csv\n",
      "0\n",
      "Already downloaded: 20190412173000.gkg.csv\n",
      "0\n",
      "Already downloaded: 20190412174500.gkg.csv\n",
      "0\n",
      "Already downloaded: 20190412180000.gkg.csv\n",
      "0\n",
      "Already downloaded: 20190412181500.gkg.csv\n",
      "0\n",
      "Already downloaded: 20190412183000.gkg.csv\n",
      "0\n",
      "Already downloaded: 20190412184500.gkg.csv\n",
      "0\n",
      "Already downloaded: 20190412190000.gkg.csv\n",
      "0\n",
      "Already downloaded: 20190412191500.gkg.csv\n",
      "0\n",
      "Already downloaded: 20190412193000.gkg.csv\n",
      "0\n",
      "Already downloaded: 20190412194500.gkg.csv\n",
      "0\n",
      "Already downloaded: 20190412200000.gkg.csv\n",
      "0\n",
      "Already downloaded: 20190412201500.gkg.csv\n",
      "0\n",
      "Already downloaded: 20190412203000.gkg.csv\n",
      "0\n",
      "Already downloaded: 20190412204500.gkg.csv\n",
      "0\n",
      "Already downloaded: 20190412210000.gkg.csv\n",
      "0\n",
      "Already downloaded: 20190412211500.gkg.csv\n",
      "0\n",
      "Already downloaded: 20190412213000.gkg.csv\n",
      "0\n",
      "Already downloaded: 20190412214500.gkg.csv\n",
      "0\n",
      "Already downloaded: 20190412220000.gkg.csv\n",
      "0\n",
      "Already downloaded: 20190412221500.gkg.csv\n",
      "0\n",
      "Already downloaded: 20190412223000.gkg.csv\n",
      "0\n",
      "Already downloaded: 20190412224500.gkg.csv\n",
      "0\n",
      "Already downloaded: 20190412230000.gkg.csv\n",
      "0\n",
      "Already downloaded: 20190412231500.gkg.csv\n",
      "0\n",
      "Already downloaded: 20190412233000.gkg.csv\n",
      "0\n",
      "Already downloaded: 20190412234500.gkg.csv\n",
      "0\n"
     ]
    }
   ],
   "source": [
    "funcoes_s3.download_list_objects(s3_resource, bucket_name, prefix, day_20190412, data_path)"
   ]
  },
  {
   "cell_type": "code",
   "execution_count": 34,
   "id": "f90dc92c",
   "metadata": {
    "ExecuteTime": {
     "end_time": "2022-04-30T16:37:39.157516Z",
     "start_time": "2022-04-30T16:37:39.150696Z"
    }
   },
   "outputs": [],
   "source": [
    "schema = StructType() \\\n",
    "      .add(\"GKGRECORDID\", StringType(), True) \\\n",
    "      .add(\"DATE\", IntegerType(), True) \\\n",
    "      .add(\"SourceCollectionIdentifier\", IntegerType(), True) \\\n",
    "      .add(\"SourceCommonName\", StringType(), True) \\\n",
    "      .add(\"DocumentIdentifier\", StringType(), True) \\\n",
    "      .add(\"Counts\", StringType(), True) \\\n",
    "      .add(\"V2Counts\", StringType(), True) \\\n",
    "      .add(\"Themes\", StringType(), True) \\\n",
    "      .add(\"V2Themes\", StringType(), True) \\\n",
    "      .add(\"Locations\", StringType(), True) \\\n",
    "      .add(\"V2Locations\", StringType(), True) \\\n",
    "      .add(\"Persons\", StringType(), True) \\\n",
    "      .add(\"V2Persons\", StringType(), True) \\\n",
    "      .add(\"Organizations\", StringType(), True) \\\n",
    "      .add(\"V2Organizations\", StringType(), True) \\\n",
    "      .add(\"V2Tone\", StringType(), True) \\\n",
    "      .add(\"Dates\", StringType(), True) \\\n",
    "      .add(\"GCAM\", StringType(), True) \\\n",
    "      .add(\"SharingImage\", StringType(), True) \\\n",
    "      .add(\"RelatedImages\", StringType(), True) \\\n",
    "      .add(\"SocialImageEmbeds\", StringType(), True) \\\n",
    "      .add(\"SocialVideoEmbeds\", StringType(), True) \\\n",
    "      .add(\"Quotations\", StringType(), True) \\\n",
    "      .add(\"AllNames\", StringType(), True) \\\n",
    "      .add(\"Amounts\", StringType(), True) \\\n",
    "      .add(\"TranslationInfo\", StringType(), True) \\\n",
    "      .add(\"Extras\", StringType(), True)"
   ]
  },
  {
   "cell_type": "code",
   "execution_count": 36,
   "id": "89627440",
   "metadata": {
    "ExecuteTime": {
     "end_time": "2022-04-30T16:39:37.305209Z",
     "start_time": "2022-04-30T16:39:36.894631Z"
    }
   },
   "outputs": [],
   "source": [
    "amostra_20190412 = myspark.read.format(\"csv\") \\\n",
    "      .options(header=False, delimiter='\\t') \\\n",
    "      .schema(schema) \\\n",
    "      .load(data_path)"
   ]
  },
  {
   "cell_type": "code",
   "execution_count": 37,
   "id": "0a142496",
   "metadata": {
    "ExecuteTime": {
     "end_time": "2022-04-30T16:39:41.620934Z",
     "start_time": "2022-04-30T16:39:41.616391Z"
    },
    "scrolled": true
   },
   "outputs": [
    {
     "name": "stdout",
     "output_type": "stream",
     "text": [
      "root\n",
      " |-- GKGRECORDID: string (nullable = true)\n",
      " |-- DATE: integer (nullable = true)\n",
      " |-- SourceCollectionIdentifier: integer (nullable = true)\n",
      " |-- SourceCommonName: string (nullable = true)\n",
      " |-- DocumentIdentifier: string (nullable = true)\n",
      " |-- Counts: string (nullable = true)\n",
      " |-- V2Counts: string (nullable = true)\n",
      " |-- Themes: string (nullable = true)\n",
      " |-- V2Themes: string (nullable = true)\n",
      " |-- Locations: string (nullable = true)\n",
      " |-- V2Locations: string (nullable = true)\n",
      " |-- Persons: string (nullable = true)\n",
      " |-- V2Persons: string (nullable = true)\n",
      " |-- Organizations: string (nullable = true)\n",
      " |-- V2Organizations: string (nullable = true)\n",
      " |-- V2Tone: string (nullable = true)\n",
      " |-- Dates: string (nullable = true)\n",
      " |-- GCAM: string (nullable = true)\n",
      " |-- SharingImage: string (nullable = true)\n",
      " |-- RelatedImages: string (nullable = true)\n",
      " |-- SocialImageEmbeds: string (nullable = true)\n",
      " |-- SocialVideoEmbeds: string (nullable = true)\n",
      " |-- Quotations: string (nullable = true)\n",
      " |-- AllNames: string (nullable = true)\n",
      " |-- Amounts: string (nullable = true)\n",
      " |-- TranslationInfo: string (nullable = true)\n",
      " |-- Extras: string (nullable = true)\n",
      "\n"
     ]
    }
   ],
   "source": [
    "amostra_20190412.printSchema()"
   ]
  },
  {
   "cell_type": "code",
   "execution_count": 27,
   "id": "b42c7bca",
   "metadata": {
    "ExecuteTime": {
     "end_time": "2022-04-30T16:00:53.858705Z",
     "start_time": "2022-04-30T16:00:53.855973Z"
    }
   },
   "outputs": [],
   "source": [
    "# Para tornar a visualização do Dataframe melhor\n",
    "myspark.conf.set('spark.sql.repl.eagerEval.enabled', True)"
   ]
  },
  {
   "cell_type": "code",
   "execution_count": 38,
   "id": "dde0aa74",
   "metadata": {
    "ExecuteTime": {
     "end_time": "2022-04-30T16:39:51.565573Z",
     "start_time": "2022-04-30T16:39:51.248416Z"
    }
   },
   "outputs": [
    {
     "data": {
      "text/html": [
       "<table border='1'>\n",
       "<tr><th>GKGRECORDID</th><th>DATE</th><th>SourceCollectionIdentifier</th><th>SourceCommonName</th><th>DocumentIdentifier</th><th>Counts</th><th>V2Counts</th><th>Themes</th><th>V2Themes</th><th>Locations</th><th>V2Locations</th><th>Persons</th><th>V2Persons</th><th>Organizations</th><th>V2Organizations</th><th>V2Tone</th><th>Dates</th><th>GCAM</th><th>SharingImage</th><th>RelatedImages</th><th>SocialImageEmbeds</th><th>SocialVideoEmbeds</th><th>Quotations</th><th>AllNames</th><th>Amounts</th><th>TranslationInfo</th><th>Extras</th></tr>\n",
       "<tr><td>20190412183000-0</td><td>null</td><td>1</td><td>tpr.org</td><td>https://www.tpr.o...</td><td>null</td><td>null</td><td>TAX_WORLDMAMMALS;...</td><td>SOC_POINTSOFINTER...</td><td>1#Germany#GM#GM#5...</td><td>1#Germany#GM#GM##...</td><td>fritz breithaupt;...</td><td>Fritz Breithaupt,...</td><td>experimental huma...</td><td>Experimental Huma...</td><td>2.62828535669587,...</td><td>1#0#0#1909#1141</td><td>wc:1477,c1.3:1,c1...</td><td>null</td><td>null</td><td>null</td><td>null</td><td>null</td><td>Dark Sides,543;Ex...</td><td>2,sides,5405;</td><td>null</td><td>&lt;PAGE_LINKS&gt;https...</td></tr>\n",
       "<tr><td>20190412183000-1</td><td>null</td><td>1</td><td>oudaily.com</td><td>http://www.oudail...</td><td>null</td><td>null</td><td>LEADER;TAX_FNCACT...</td><td>TRIAL,1153;USPEC_...</td><td>2#California, Uni...</td><td>2#Oklahoma, Unite...</td><td>mitch mcconnell;k...</td><td>Mitch Mcconnell,1...</td><td>senate majority l...</td><td>Senate Majority L...</td><td>1.5748031496063,4...</td><td>null</td><td>wc:240,c1.2:2,c12...</td><td>https://bloximage...</td><td>null</td><td>null</td><td>null</td><td>null</td><td>Kendra Horn,162;I...</td><td>20,states launchi...</td><td>null</td><td>&lt;PAGE_LINKS&gt;https...</td></tr>\n",
       "<tr><td>20190412183000-2</td><td>null</td><td>1</td><td>northernpublicrad...</td><td>https://www.north...</td><td>null</td><td>null</td><td>TAX_FNCACT;TAX_FN...</td><td>TAX_ETHNICITY_AME...</td><td>1#United States#U...</td><td>1#Americans#US#US...</td><td>amanda kolson hur...</td><td>Amanda Kolson Hur...</td><td>null</td><td>null</td><td>-3.03030303030303...</td><td>null</td><td>wc:85,c1.3:1,c12....</td><td>null</td><td>null</td><td>null</td><td>null</td><td>null</td><td>Amanda Kolson Hur...</td><td>null</td><td>null</td><td>&lt;PAGE_AUTHORS&gt;Ete...</td></tr>\n",
       "<tr><td>20190412183000-3</td><td>null</td><td>1</td><td>english.wafa.ps</td><td>http://english.wa...</td><td>null</td><td>null</td><td>TAX_ETHNICITY;TAX...</td><td>TAX_WORLDLANGUAGE...</td><td>4#Ramallah, West ...</td><td>1#West Bank#WE#WE...</td><td>null</td><td>null</td><td>null</td><td>null</td><td>-9.49720670391061...</td><td>null</td><td>wc:158,c1.1:2,c12...</td><td>null</td><td>null</td><td>null</td><td>https://youtube.c...</td><td>null</td><td>Several Palestini...</td><td>null</td><td>null</td><td>null</td></tr>\n",
       "<tr><td>20190412183000-4</td><td>null</td><td>1</td><td>romseyadvertiser....</td><td>https://www.romse...</td><td>PROTEST#200#stude...</td><td>PROTEST#200#stude...</td><td>TAX_FNCACT;TAX_FN...</td><td>EPU_POLICY_GOVERN...</td><td>4#Bedford, Boroug...</td><td>1#United Kingdom#...</td><td>theresa may;cyrus...</td><td>Theresa May,655;C...</td><td>parliament square...</td><td>Parliament Square...</td><td>-5.10204081632653...</td><td>null</td><td>wc:647,c1.3:34,c1...</td><td>https://www.romse...</td><td>https://image.ass...</td><td>null</td><td>null</td><td>732|60||Theresa M...</td><td>Youth Strike,200;...</td><td>4,Climate movemen...</td><td>null</td><td>&lt;PAGE_PRECISEPUBT...</td></tr>\n",
       "<tr><td>20190412183000-5</td><td>null</td><td>1</td><td>dailymail.co.uk</td><td>https://www.daily...</td><td>KILL#45##5#Khuzes...</td><td>KILL#45##5#Khuzes...</td><td>TAX_ETHNICITY;TAX...</td><td>KILL,1358;WATER_S...</td><td>5#Lorestan, Lores...</td><td>4#Ahvaz, Khuzesta...</td><td>javad zarif;ghola...</td><td>Javad Zarif,2334;...</td><td>national disaster...</td><td>National Disaster...</td><td>-7.17391304347826...</td><td>4#3#19#0#1258;4#3...</td><td>wc:423,c1.2:2,c12...</td><td>https://i.dailyma...</td><td>null</td><td>null</td><td>null</td><td>null</td><td>Ali Asghar Peivan...</td><td>70,centimetres,67...</td><td>null</td><td>&lt;PAGE_AUTHORS&gt;Afp...</td></tr>\n",
       "<tr><td>20190412183000-6</td><td>null</td><td>1</td><td>iheart.com</td><td>https://theriver1...</td><td>null</td><td>null</td><td>TAX_FNCACT;TAX_FN...</td><td>MEDIA_SOCIAL,338;...</td><td>2#New York, Unite...</td><td>3#Greene County, ...</td><td>null</td><td>null</td><td>cairo police depa...</td><td>Facebook,338</td><td>-2.66666666666667...</td><td>null</td><td>wc:139,c12.1:8,c1...</td><td>https://i.iheart....</td><td>null</td><td>null</td><td>null</td><td>null</td><td>New York,127;New ...</td><td>null</td><td>null</td><td>&lt;PAGE_LINKS&gt;https...</td></tr>\n",
       "<tr><td>20190412183000-7</td><td>null</td><td>1</td><td>iheart.com</td><td>https://alt96va.i...</td><td>null</td><td>null</td><td>TAX_WORLDFISH;TAX...</td><td>TAX_WORLDFISH_ROC...</td><td>2#Virginia, Unite...</td><td>2#Virginia, Unite...</td><td>null</td><td>null</td><td>washington post</td><td>null</td><td>-4.93827160493827...</td><td>null</td><td>wc:78,c12.1:3,c12...</td><td>https://i.iheart....</td><td>null</td><td>null</td><td>https://youtube.c...</td><td>null</td><td>Washington Post,190</td><td>null</td><td>null</td><td>&lt;PAGE_LINKS&gt;https...</td></tr>\n",
       "<tr><td>20190412183000-8</td><td>null</td><td>1</td><td>northernpublicrad...</td><td>https://www.north...</td><td>null</td><td>null</td><td>TAX_FNCACT;TAX_FN...</td><td>WB_1406_DISEASES,...</td><td>1#Japan#JA#JA#36#...</td><td>1#Guatemalan#GT#G...</td><td>anurima ghosh das...</td><td>Anurima Ghosh Das...</td><td>null</td><td>null</td><td>1.76916596461668,...</td><td>4#3#29#0#2156</td><td>wc:1090,c1.1:1,c1...</td><td>null</td><td>http://media.npr....</td><td>null</td><td>null</td><td>4049|31||Recipes ...</td><td>Chef Anumitra Gho...</td><td>2,food writers wh...</td><td>null</td><td>&lt;PAGE_LINKS&gt;http:...</td></tr>\n",
       "<tr><td>20190412183000-9</td><td>null</td><td>1</td><td>iheart.com</td><td>https://theriver1...</td><td>KILL#25##3#Atlant...</td><td>KILL#25##3#Atlant...</td><td>SOC_GENERALCRIME;...</td><td>KILL,1207;TAX_WOR...</td><td>2#Georgia, United...</td><td>2#Texas, United S...</td><td>christopher goffa...</td><td>Christopher Goffa...</td><td>los angeles times</td><td>null</td><td>-4.33962264150943...</td><td>1#0#0#2014#462;1#...</td><td>wc:969,c1.1:1,c1....</td><td>https://i.iheart....</td><td>null</td><td>null</td><td>null</td><td>null</td><td>Nicole Mastrogian...</td><td>25,victims,916;5,...</td><td>null</td><td>&lt;PAGE_LINKS&gt;https...</td></tr>\n",
       "<tr><td>20190412183000-10</td><td>null</td><td>1</td><td>1079ishot.com</td><td>https://1079ishot...</td><td>null</td><td>null</td><td>WB_2745_JOB_QUALI...</td><td>SLFID_ECONOMIC_DE...</td><td>null</td><td>null</td><td>danielle dayries;...</td><td>Danielle Dayries,...</td><td>workforce develop...</td><td>Workforce Develop...</td><td>5.05494505494505,...</td><td>4#5#2#0#172;4#4#2...</td><td>wc:430,c1.2:4,c1....</td><td>https://townsquar...</td><td>null</td><td>null</td><td>https://youtube.c...</td><td>null</td><td>Leda Job Fair Thu...</td><td>2,seminars for th...</td><td>null</td><td>&lt;PAGE_LINKS&gt;http:...</td></tr>\n",
       "<tr><td>20190412183000-11</td><td>null</td><td>1</td><td>kaaoszine.fi</td><td>https://kaaoszine...</td><td>null</td><td>null</td><td>TAX_ETHNICITY;TAX...</td><td>CRISISLEX_CRISISL...</td><td>null</td><td>null</td><td>null</td><td>null</td><td>null</td><td>null</td><td>0,1.1049723756906...</td><td>null</td><td>wc:150,c12.1:9,c1...</td><td>https://kaaoszine...</td><td>https://kaaoszine...</td><td>null</td><td>https://youtube.c...</td><td>null</td><td>Metal Blade Recor...</td><td>180,g Black Vinyl...</td><td>null</td><td>&lt;PAGE_LINKS&gt;https...</td></tr>\n",
       "<tr><td>20190412183000-12</td><td>null</td><td>1</td><td>sunraysiadaily.co...</td><td>http://www.sunray...</td><td>null</td><td>null</td><td>DELAY;USPEC_UNCER...</td><td>TAX_FNCACT_MANAGE...</td><td>null</td><td>null</td><td>mildura paddleste...</td><td>Mildura Paddleste...</td><td>null</td><td>null</td><td>-5.6,0.8,6.4,7.2,...</td><td>null</td><td>wc:105,c1.3:2,c12...</td><td>https://nnimgt-a....</td><td>null</td><td>null</td><td>null</td><td>null</td><td>Mildura Paddleste...</td><td>null</td><td>null</td><td>&lt;PAGE_LINKS&gt;http:...</td></tr>\n",
       "<tr><td>20190412183000-13</td><td>null</td><td>1</td><td>fosters.com</td><td>https://www.foste...</td><td>null</td><td>null</td><td>EPU_POLICY;EPU_PO...</td><td>TAX_FNCACT_LAWYER...</td><td>1#Australia#AS#AS...</td><td>1#Britain#UK#UK##...</td><td>julian assange;di...</td><td>Julian Assange,94...</td><td>labour party;euro...</td><td>Labour Party,165;...</td><td>-8.04597701149425...</td><td>4#5#2#0#1963</td><td>wc:477,c12.1:41,c...</td><td>https://www.foste...</td><td>null</td><td>null</td><td>null</td><td>null</td><td>Julian Assange,10...</td><td>null</td><td>null</td><td>&lt;PAGE_AUTHORS&gt;The...</td></tr>\n",
       "<tr><td>20190412183000-14</td><td>null</td><td>1</td><td>shelbystar.com</td><td>https://www.shelb...</td><td>null</td><td>null</td><td>null</td><td>null</td><td>3#San Antonio, Te...</td><td>3#San Antonio, Te...</td><td>brooks koepka;kyl...</td><td>Brooks Koepka,135...</td><td>augusta national;...</td><td>Augusta National,...</td><td>-0.94786729857819...</td><td>null</td><td>wc:761,c1.1:2,c1....</td><td>https://www.shelb...</td><td>null</td><td>null</td><td>null</td><td>3543|229||I had o...</td><td>Augusta National,...</td><td>5,things you need...</td><td>null</td><td>&lt;PAGE_AUTHORS&gt;Tim...</td></tr>\n",
       "<tr><td>20190412183000-15</td><td>null</td><td>1</td><td>manilatimes.net</td><td>https://www.manil...</td><td>null</td><td>null</td><td>LEADER;</td><td>LEADER,153;LEADER...</td><td>4#Davao City, Dav...</td><td>4#Philippine, Ben...</td><td>sara duterte-carp...</td><td>Sara Duterte-Carp...</td><td>philippine center</td><td>null</td><td>-3.6231884057971,...</td><td>null</td><td>wc:370,c12.1:29,c...</td><td>https://s14255.pc...</td><td>null</td><td>null</td><td>null</td><td>null</td><td>President Rodrigo...</td><td>2,families,1511;</td><td>null</td><td>&lt;PAGE_LINKS&gt;https...</td></tr>\n",
       "<tr><td>20190412183000-16</td><td>null</td><td>1</td><td>local10.com</td><td>https://www.local...</td><td>KILL#764#total#1#...</td><td>KILL#764#total#1#...</td><td>TAX_DISEASE;TAX_D...</td><td>KILL,728;KILL,886...</td><td>1#South Sudan#OD#...</td><td>1#Rwanda#RW#RW##-...</td><td>tarik ja;robert s...</td><td>Tarik Ja,2149;Rob...</td><td>emergency committ...</td><td>Emergency Committ...</td><td>-4.64959568733154...</td><td>1#0#0#2014#784;3#...</td><td>wc:1356,c1.3:3,c1...</td><td>null</td><td>null</td><td>null</td><td>null</td><td>1968|78||public h...</td><td>Democratic Republ...</td><td>206,total cases,5...</td><td>null</td><td>&lt;PAGE_LINKS&gt;http:...</td></tr>\n",
       "<tr><td>20190412183000-17</td><td>null</td><td>1</td><td>msn.com</td><td>https://www.msn.c...</td><td>null</td><td>null</td><td>null</td><td>null</td><td>null</td><td>null</td><td>null</td><td>null</td><td>instagram</td><td>Instagram,168</td><td>7.07964601769912,...</td><td>null</td><td>wc:107,c12.1:7,c1...</td><td>null</td><td>null</td><td>null</td><td>null</td><td>null</td><td>TripAdvisor Exper...</td><td>10,most Instagram...</td><td>null</td><td>null</td></tr>\n",
       "<tr><td>20190412183000-18</td><td>null</td><td>1</td><td>iheart.com</td><td>https://989myfm.i...</td><td>null</td><td>null</td><td>CRISISLEX_O01_WEA...</td><td>TAX_FNCACT_MAN,98...</td><td>4#London, London,...</td><td>4#London, London,...</td><td>null</td><td>null</td><td>null</td><td>null</td><td>2.65486725663717,...</td><td>null</td><td>wc:206,c12.1:18,c...</td><td>https://i.iheart....</td><td>null</td><td>https://instagram...</td><td>null</td><td>null</td><td>Vacation Tour,239</td><td>null</td><td>null</td><td>&lt;PAGE_LINKS&gt;https...</td></tr>\n",
       "<tr><td>20190412183000-19</td><td>null</td><td>1</td><td>antaranews.com</td><td>https://en.antara...</td><td>AFFECT#6##4#Kolon...</td><td>AFFECT#6##4#Kolon...</td><td>NATURAL_DISASTER;...</td><td>AFFECT,288;EVACUA...</td><td>4#Sigi, Nusa Teng...</td><td>4#Sigi, Nusa Teng...</td><td>parigi moutong;mo...</td><td>Parigi Moutong,12...</td><td>central sulawesi ...</td><td>Central Sulawesi ...</td><td>-5.16717325227964...</td><td>null</td><td>wc:316,c12.1:13,c...</td><td>https://sgcdn.ant...</td><td>null</td><td>null</td><td>https://youtube.c...</td><td>null</td><td>North Morowali,21...</td><td>9,struck the Bang...</td><td>null</td><td>&lt;PAGE_AUTHORS&gt;ant...</td></tr>\n",
       "</table>\n",
       "only showing top 20 rows\n"
      ],
      "text/plain": [
       "+-----------------+----+--------------------------+--------------------+--------------------+--------------------+--------------------+--------------------+--------------------+--------------------+--------------------+--------------------+--------------------+--------------------+--------------------+--------------------+--------------------+--------------------+--------------------+--------------------+--------------------+--------------------+--------------------+--------------------+--------------------+---------------+--------------------+\n",
       "|      GKGRECORDID|DATE|SourceCollectionIdentifier|    SourceCommonName|  DocumentIdentifier|              Counts|            V2Counts|              Themes|            V2Themes|           Locations|         V2Locations|             Persons|           V2Persons|       Organizations|     V2Organizations|              V2Tone|               Dates|                GCAM|        SharingImage|       RelatedImages|   SocialImageEmbeds|   SocialVideoEmbeds|          Quotations|            AllNames|             Amounts|TranslationInfo|              Extras|\n",
       "+-----------------+----+--------------------------+--------------------+--------------------+--------------------+--------------------+--------------------+--------------------+--------------------+--------------------+--------------------+--------------------+--------------------+--------------------+--------------------+--------------------+--------------------+--------------------+--------------------+--------------------+--------------------+--------------------+--------------------+--------------------+---------------+--------------------+\n",
       "| 20190412183000-0|null|                         1|             tpr.org|https://www.tpr.o...|                null|                null|TAX_WORLDMAMMALS;...|SOC_POINTSOFINTER...|1#Germany#GM#GM#5...|1#Germany#GM#GM##...|fritz breithaupt;...|Fritz Breithaupt,...|experimental huma...|Experimental Huma...|2.62828535669587,...|     1#0#0#1909#1141|wc:1477,c1.3:1,c1...|                null|                null|                null|                null|                null|Dark Sides,543;Ex...|       2,sides,5405;|           null|<PAGE_LINKS>https...|\n",
       "| 20190412183000-1|null|                         1|         oudaily.com|http://www.oudail...|                null|                null|LEADER;TAX_FNCACT...|TRIAL,1153;USPEC_...|2#California, Uni...|2#Oklahoma, Unite...|mitch mcconnell;k...|Mitch Mcconnell,1...|senate majority l...|Senate Majority L...|1.5748031496063,4...|                null|wc:240,c1.2:2,c12...|https://bloximage...|                null|                null|                null|                null|Kendra Horn,162;I...|20,states launchi...|           null|<PAGE_LINKS>https...|\n",
       "| 20190412183000-2|null|                         1|northernpublicrad...|https://www.north...|                null|                null|TAX_FNCACT;TAX_FN...|TAX_ETHNICITY_AME...|1#United States#U...|1#Americans#US#US...|amanda kolson hur...|Amanda Kolson Hur...|                null|                null|-3.03030303030303...|                null|wc:85,c1.3:1,c12....|                null|                null|                null|                null|                null|Amanda Kolson Hur...|                null|           null|<PAGE_AUTHORS>Ete...|\n",
       "| 20190412183000-3|null|                         1|     english.wafa.ps|http://english.wa...|                null|                null|TAX_ETHNICITY;TAX...|TAX_WORLDLANGUAGE...|4#Ramallah, West ...|1#West Bank#WE#WE...|                null|                null|                null|                null|-9.49720670391061...|                null|wc:158,c1.1:2,c12...|                null|                null|                null|https://youtube.c...|                null|Several Palestini...|                null|           null|                null|\n",
       "| 20190412183000-4|null|                         1|romseyadvertiser....|https://www.romse...|PROTEST#200#stude...|PROTEST#200#stude...|TAX_FNCACT;TAX_FN...|EPU_POLICY_GOVERN...|4#Bedford, Boroug...|1#United Kingdom#...|theresa may;cyrus...|Theresa May,655;C...|parliament square...|Parliament Square...|-5.10204081632653...|                null|wc:647,c1.3:34,c1...|https://www.romse...|https://image.ass...|                null|                null|732|60||Theresa M...|Youth Strike,200;...|4,Climate movemen...|           null|<PAGE_PRECISEPUBT...|\n",
       "| 20190412183000-5|null|                         1|     dailymail.co.uk|https://www.daily...|KILL#45##5#Khuzes...|KILL#45##5#Khuzes...|TAX_ETHNICITY;TAX...|KILL,1358;WATER_S...|5#Lorestan, Lores...|4#Ahvaz, Khuzesta...|javad zarif;ghola...|Javad Zarif,2334;...|national disaster...|National Disaster...|-7.17391304347826...|4#3#19#0#1258;4#3...|wc:423,c1.2:2,c12...|https://i.dailyma...|                null|                null|                null|                null|Ali Asghar Peivan...|70,centimetres,67...|           null|<PAGE_AUTHORS>Afp...|\n",
       "| 20190412183000-6|null|                         1|          iheart.com|https://theriver1...|                null|                null|TAX_FNCACT;TAX_FN...|MEDIA_SOCIAL,338;...|2#New York, Unite...|3#Greene County, ...|                null|                null|cairo police depa...|        Facebook,338|-2.66666666666667...|                null|wc:139,c12.1:8,c1...|https://i.iheart....|                null|                null|                null|                null|New York,127;New ...|                null|           null|<PAGE_LINKS>https...|\n",
       "| 20190412183000-7|null|                         1|          iheart.com|https://alt96va.i...|                null|                null|TAX_WORLDFISH;TAX...|TAX_WORLDFISH_ROC...|2#Virginia, Unite...|2#Virginia, Unite...|                null|                null|     washington post|                null|-4.93827160493827...|                null|wc:78,c12.1:3,c12...|https://i.iheart....|                null|                null|https://youtube.c...|                null| Washington Post,190|                null|           null|<PAGE_LINKS>https...|\n",
       "| 20190412183000-8|null|                         1|northernpublicrad...|https://www.north...|                null|                null|TAX_FNCACT;TAX_FN...|WB_1406_DISEASES,...|1#Japan#JA#JA#36#...|1#Guatemalan#GT#G...|anurima ghosh das...|Anurima Ghosh Das...|                null|                null|1.76916596461668,...|       4#3#29#0#2156|wc:1090,c1.1:1,c1...|                null|http://media.npr....|                null|                null|4049|31||Recipes ...|Chef Anumitra Gho...|2,food writers wh...|           null|<PAGE_LINKS>http:...|\n",
       "| 20190412183000-9|null|                         1|          iheart.com|https://theriver1...|KILL#25##3#Atlant...|KILL#25##3#Atlant...|SOC_GENERALCRIME;...|KILL,1207;TAX_WOR...|2#Georgia, United...|2#Texas, United S...|christopher goffa...|Christopher Goffa...|   los angeles times|                null|-4.33962264150943...|1#0#0#2014#462;1#...|wc:969,c1.1:1,c1....|https://i.iheart....|                null|                null|                null|                null|Nicole Mastrogian...|25,victims,916;5,...|           null|<PAGE_LINKS>https...|\n",
       "|20190412183000-10|null|                         1|       1079ishot.com|https://1079ishot...|                null|                null|WB_2745_JOB_QUALI...|SLFID_ECONOMIC_DE...|                null|                null|danielle dayries;...|Danielle Dayries,...|workforce develop...|Workforce Develop...|5.05494505494505,...|4#5#2#0#172;4#4#2...|wc:430,c1.2:4,c1....|https://townsquar...|                null|                null|https://youtube.c...|                null|Leda Job Fair Thu...|2,seminars for th...|           null|<PAGE_LINKS>http:...|\n",
       "|20190412183000-11|null|                         1|        kaaoszine.fi|https://kaaoszine...|                null|                null|TAX_ETHNICITY;TAX...|CRISISLEX_CRISISL...|                null|                null|                null|                null|                null|                null|0,1.1049723756906...|                null|wc:150,c12.1:9,c1...|https://kaaoszine...|https://kaaoszine...|                null|https://youtube.c...|                null|Metal Blade Recor...|180,g Black Vinyl...|           null|<PAGE_LINKS>https...|\n",
       "|20190412183000-12|null|                         1|sunraysiadaily.co...|http://www.sunray...|                null|                null|DELAY;USPEC_UNCER...|TAX_FNCACT_MANAGE...|                null|                null|mildura paddleste...|Mildura Paddleste...|                null|                null|-5.6,0.8,6.4,7.2,...|                null|wc:105,c1.3:2,c12...|https://nnimgt-a....|                null|                null|                null|                null|Mildura Paddleste...|                null|           null|<PAGE_LINKS>http:...|\n",
       "|20190412183000-13|null|                         1|         fosters.com|https://www.foste...|                null|                null|EPU_POLICY;EPU_PO...|TAX_FNCACT_LAWYER...|1#Australia#AS#AS...|1#Britain#UK#UK##...|julian assange;di...|Julian Assange,94...|labour party;euro...|Labour Party,165;...|-8.04597701149425...|        4#5#2#0#1963|wc:477,c12.1:41,c...|https://www.foste...|                null|                null|                null|                null|Julian Assange,10...|                null|           null|<PAGE_AUTHORS>The...|\n",
       "|20190412183000-14|null|                         1|      shelbystar.com|https://www.shelb...|                null|                null|                null|                null|3#San Antonio, Te...|3#San Antonio, Te...|brooks koepka;kyl...|Brooks Koepka,135...|augusta national;...|Augusta National,...|-0.94786729857819...|                null|wc:761,c1.1:2,c1....|https://www.shelb...|                null|                null|                null|3543|229||I had o...|Augusta National,...|5,things you need...|           null|<PAGE_AUTHORS>Tim...|\n",
       "|20190412183000-15|null|                         1|     manilatimes.net|https://www.manil...|                null|                null|             LEADER;|LEADER,153;LEADER...|4#Davao City, Dav...|4#Philippine, Ben...|sara duterte-carp...|Sara Duterte-Carp...|   philippine center|                null|-3.6231884057971,...|                null|wc:370,c12.1:29,c...|https://s14255.pc...|                null|                null|                null|                null|President Rodrigo...|    2,families,1511;|           null|<PAGE_LINKS>https...|\n",
       "|20190412183000-16|null|                         1|         local10.com|https://www.local...|KILL#764#total#1#...|KILL#764#total#1#...|TAX_DISEASE;TAX_D...|KILL,728;KILL,886...|1#South Sudan#OD#...|1#Rwanda#RW#RW##-...|tarik ja;robert s...|Tarik Ja,2149;Rob...|emergency committ...|Emergency Committ...|-4.64959568733154...|1#0#0#2014#784;3#...|wc:1356,c1.3:3,c1...|                null|                null|                null|                null|1968|78||public h...|Democratic Republ...|206,total cases,5...|           null|<PAGE_LINKS>http:...|\n",
       "|20190412183000-17|null|                         1|             msn.com|https://www.msn.c...|                null|                null|                null|                null|                null|                null|                null|                null|           instagram|       Instagram,168|7.07964601769912,...|                null|wc:107,c12.1:7,c1...|                null|                null|                null|                null|                null|TripAdvisor Exper...|10,most Instagram...|           null|                null|\n",
       "|20190412183000-18|null|                         1|          iheart.com|https://989myfm.i...|                null|                null|CRISISLEX_O01_WEA...|TAX_FNCACT_MAN,98...|4#London, London,...|4#London, London,...|                null|                null|                null|                null|2.65486725663717,...|                null|wc:206,c12.1:18,c...|https://i.iheart....|                null|https://instagram...|                null|                null|   Vacation Tour,239|                null|           null|<PAGE_LINKS>https...|\n",
       "|20190412183000-19|null|                         1|      antaranews.com|https://en.antara...|AFFECT#6##4#Kolon...|AFFECT#6##4#Kolon...|NATURAL_DISASTER;...|AFFECT,288;EVACUA...|4#Sigi, Nusa Teng...|4#Sigi, Nusa Teng...|parigi moutong;mo...|Parigi Moutong,12...|central sulawesi ...|Central Sulawesi ...|-5.16717325227964...|                null|wc:316,c12.1:13,c...|https://sgcdn.ant...|                null|                null|https://youtube.c...|                null|North Morowali,21...|9,struck the Bang...|           null|<PAGE_AUTHORS>ant...|\n",
       "+-----------------+----+--------------------------+--------------------+--------------------+--------------------+--------------------+--------------------+--------------------+--------------------+--------------------+--------------------+--------------------+--------------------+--------------------+--------------------+--------------------+--------------------+--------------------+--------------------+--------------------+--------------------+--------------------+--------------------+--------------------+---------------+--------------------+\n",
       "only showing top 20 rows"
      ]
     },
     "execution_count": 38,
     "metadata": {},
     "output_type": "execute_result"
    },
    {
     "name": "stderr",
     "output_type": "stream",
     "text": [
      "22/04/30 22:46:39 WARN HeartbeatReceiver: Removing executor driver with no recent heartbeats: 13241835 ms exceeds timeout 120000 ms\n",
      "22/04/30 22:46:40 WARN SparkContext: Killing executors is not supported by current scheduler.\n"
     ]
    }
   ],
   "source": [
    "amostra_20190412"
   ]
  }
 ],
 "metadata": {
  "kernelspec": {
   "display_name": "Python 3 (ipykernel)",
   "language": "python",
   "name": "python3"
  },
  "language_info": {
   "codemirror_mode": {
    "name": "ipython",
    "version": 3
   },
   "file_extension": ".py",
   "mimetype": "text/x-python",
   "name": "python",
   "nbconvert_exporter": "python",
   "pygments_lexer": "ipython3",
   "version": "3.9.7"
  }
 },
 "nbformat": 4,
 "nbformat_minor": 5
}
