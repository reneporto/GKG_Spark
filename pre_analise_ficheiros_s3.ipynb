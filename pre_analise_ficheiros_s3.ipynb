{
 "cells": [
  {
   "cell_type": "markdown",
   "id": "281148a0",
   "metadata": {},
   "source": [
    "# Pré-análise dos ficheiros\n",
    "\n",
    "Analise do dataset **GDELT 2.0: Our Global World in Realtime**:\n",
    "- Verificar o tamanho dos ficheiros\n",
    "- Quantidade\n",
    "- Datas\n",
    "- Período abrangente"
   ]
  },
  {
   "cell_type": "code",
   "execution_count": 8,
   "id": "67805b3e",
   "metadata": {
    "ExecuteTime": {
     "end_time": "2022-04-30T12:51:45.964213Z",
     "start_time": "2022-04-30T12:51:45.959618Z"
    }
   },
   "outputs": [],
   "source": [
    "# Funções criadas para manipular os ficheiros S3\n",
    "import funcoes_s3\n",
    "import boto3\n",
    "from botocore import UNSIGNED\n",
    "from botocore.client import Config\n",
    "import pandas as pd"
   ]
  },
  {
   "cell_type": "markdown",
   "id": "d5e28fb7",
   "metadata": {},
   "source": [
    "## Dados do S3 Bucket\n",
    "\n",
    "https://registry.opendata.aws/gdelt/"
   ]
  },
  {
   "cell_type": "code",
   "execution_count": 9,
   "id": "572e2507",
   "metadata": {
    "ExecuteTime": {
     "end_time": "2022-04-30T12:51:46.547224Z",
     "start_time": "2022-04-30T12:51:46.495616Z"
    }
   },
   "outputs": [],
   "source": [
    "# Configuração do S3\n",
    "s3_resource = boto3.resource('s3', config=Config(signature_version=UNSIGNED))\n",
    "bucket_name = 'gdelt-open-data'"
   ]
  },
  {
   "cell_type": "markdown",
   "id": "c3f59935",
   "metadata": {},
   "source": [
    "### Detalhes dos ficheiros"
   ]
  },
  {
   "cell_type": "code",
   "execution_count": 11,
   "id": "f5ad6460",
   "metadata": {
    "ExecuteTime": {
     "end_time": "2022-04-30T12:56:47.429694Z",
     "start_time": "2022-04-30T12:53:42.295786Z"
    }
   },
   "outputs": [],
   "source": [
    "# Buscar todos os ficheiros da pasta \"v2/gkg/\"\n",
    "list_filename = funcoes_s3.get_objects_name(s3_resource, bucket_name, \n",
    "                                       prefix=\"v2/gkg/\")"
   ]
  },
  {
   "cell_type": "code",
   "execution_count": 12,
   "id": "e540973e",
   "metadata": {
    "ExecuteTime": {
     "end_time": "2022-04-30T12:57:15.446020Z",
     "start_time": "2022-04-30T12:57:15.432147Z"
    }
   },
   "outputs": [
    {
     "data": {
      "text/html": [
       "<div>\n",
       "<style scoped>\n",
       "    .dataframe tbody tr th:only-of-type {\n",
       "        vertical-align: middle;\n",
       "    }\n",
       "\n",
       "    .dataframe tbody tr th {\n",
       "        vertical-align: top;\n",
       "    }\n",
       "\n",
       "    .dataframe thead th {\n",
       "        text-align: right;\n",
       "    }\n",
       "</style>\n",
       "<table border=\"1\" class=\"dataframe\">\n",
       "  <thead>\n",
       "    <tr style=\"text-align: right;\">\n",
       "      <th></th>\n",
       "      <th>filename</th>\n",
       "      <th>size_b</th>\n",
       "    </tr>\n",
       "  </thead>\n",
       "  <tbody>\n",
       "    <tr>\n",
       "      <th>0</th>\n",
       "      <td>v2/gkg/20150218230000.gkg.csv</td>\n",
       "      <td>33563207</td>\n",
       "    </tr>\n",
       "    <tr>\n",
       "      <th>1</th>\n",
       "      <td>v2/gkg/20150218231500.gkg.csv</td>\n",
       "      <td>31949650</td>\n",
       "    </tr>\n",
       "    <tr>\n",
       "      <th>2</th>\n",
       "      <td>v2/gkg/20150218233000.gkg.csv</td>\n",
       "      <td>35095453</td>\n",
       "    </tr>\n",
       "    <tr>\n",
       "      <th>3</th>\n",
       "      <td>v2/gkg/20150218234500.gkg.csv</td>\n",
       "      <td>34908148</td>\n",
       "    </tr>\n",
       "    <tr>\n",
       "      <th>4</th>\n",
       "      <td>v2/gkg/20150219000000.gkg.csv</td>\n",
       "      <td>30228677</td>\n",
       "    </tr>\n",
       "  </tbody>\n",
       "</table>\n",
       "</div>"
      ],
      "text/plain": [
       "                        filename    size_b\n",
       "0  v2/gkg/20150218230000.gkg.csv  33563207\n",
       "1  v2/gkg/20150218231500.gkg.csv  31949650\n",
       "2  v2/gkg/20150218233000.gkg.csv  35095453\n",
       "3  v2/gkg/20150218234500.gkg.csv  34908148\n",
       "4  v2/gkg/20150219000000.gkg.csv  30228677"
      ]
     },
     "execution_count": 12,
     "metadata": {},
     "output_type": "execute_result"
    }
   ],
   "source": [
    "list_filename.head()"
   ]
  },
  {
   "cell_type": "markdown",
   "id": "38bb34c5",
   "metadata": {},
   "source": [
    "## Análise geral"
   ]
  },
  {
   "cell_type": "code",
   "execution_count": 22,
   "id": "39cf3c0f",
   "metadata": {
    "ExecuteTime": {
     "end_time": "2022-04-30T13:09:18.423915Z",
     "start_time": "2022-04-30T13:09:18.409103Z"
    }
   },
   "outputs": [
    {
     "name": "stdout",
     "output_type": "stream",
     "text": [
      "Quantidade de ficheiros: 143435\n"
     ]
    }
   ],
   "source": [
    "# Total de linhas\n",
    "print(f\"Quantidade de ficheiros: {list_filename['filename'].count()}\")"
   ]
  },
  {
   "cell_type": "code",
   "execution_count": 18,
   "id": "b2b9d4b4",
   "metadata": {
    "ExecuteTime": {
     "end_time": "2022-04-30T13:06:16.929059Z",
     "start_time": "2022-04-30T13:06:16.919566Z"
    }
   },
   "outputs": [
    {
     "data": {
      "text/plain": [
       "140462    17069936\n",
       "6947      15154700\n",
       "96135     16260655\n",
       "100476    17503519\n",
       "15467     45753240\n",
       "Name: size, dtype: int64"
      ]
     },
     "execution_count": 18,
     "metadata": {},
     "output_type": "execute_result"
    }
   ],
   "source": [
    "size = pd.Series(list_filename['size_b'], name=\"size\")\n",
    "size.sample(5)"
   ]
  },
  {
   "cell_type": "code",
   "execution_count": 24,
   "id": "0e604b83",
   "metadata": {
    "ExecuteTime": {
     "end_time": "2022-04-30T13:11:25.821382Z",
     "start_time": "2022-04-30T13:11:25.816374Z"
    }
   },
   "outputs": [
    {
     "name": "stdout",
     "output_type": "stream",
     "text": [
      "Quantidade de linhas: 143435\n",
      "Tamanho total do dataset (Gigabyte): 4163.2315583229065\n",
      "Quantidade de valores nulos: 0\n"
     ]
    }
   ],
   "source": [
    "print(f\"Quantidade de linhas: {size.count()}\")\n",
    "print(f\"Tamanho total do dataset (Gigabyte): {size.sum()/1024.0**3}\")\n",
    "print(f\"Quantidade de valores nulos: {size[size.isnull()].count()}\")"
   ]
  },
  {
   "cell_type": "markdown",
   "id": "9ced57a9",
   "metadata": {},
   "source": [
    "### Agrupamento por ano"
   ]
  },
  {
   "cell_type": "code",
   "execution_count": 26,
   "id": "6105b28f",
   "metadata": {
    "ExecuteTime": {
     "end_time": "2022-04-30T13:13:23.897145Z",
     "start_time": "2022-04-30T13:13:23.847592Z"
    }
   },
   "outputs": [
    {
     "name": "stdout",
     "output_type": "stream",
     "text": [
      "Quantidade de valores nulos: 0\n"
     ]
    },
    {
     "data": {
      "text/html": [
       "<div>\n",
       "<style scoped>\n",
       "    .dataframe tbody tr th:only-of-type {\n",
       "        vertical-align: middle;\n",
       "    }\n",
       "\n",
       "    .dataframe tbody tr th {\n",
       "        vertical-align: top;\n",
       "    }\n",
       "\n",
       "    .dataframe thead th {\n",
       "        text-align: right;\n",
       "    }\n",
       "</style>\n",
       "<table border=\"1\" class=\"dataframe\">\n",
       "  <thead>\n",
       "    <tr style=\"text-align: right;\">\n",
       "      <th></th>\n",
       "      <th>year</th>\n",
       "      <th>size</th>\n",
       "    </tr>\n",
       "  </thead>\n",
       "  <tbody>\n",
       "    <tr>\n",
       "      <th>141639</th>\n",
       "      <td>2019</td>\n",
       "      <td>34418247</td>\n",
       "    </tr>\n",
       "    <tr>\n",
       "      <th>47744</th>\n",
       "      <td>2016</td>\n",
       "      <td>25225760</td>\n",
       "    </tr>\n",
       "    <tr>\n",
       "      <th>83938</th>\n",
       "      <td>2017</td>\n",
       "      <td>37737</td>\n",
       "    </tr>\n",
       "    <tr>\n",
       "      <th>128912</th>\n",
       "      <td>2018</td>\n",
       "      <td>25993597</td>\n",
       "    </tr>\n",
       "    <tr>\n",
       "      <th>58783</th>\n",
       "      <td>2016</td>\n",
       "      <td>36783731</td>\n",
       "    </tr>\n",
       "  </tbody>\n",
       "</table>\n",
       "</div>"
      ],
      "text/plain": [
       "        year      size\n",
       "141639  2019  34418247\n",
       "47744   2016  25225760\n",
       "83938   2017     37737\n",
       "128912  2018  25993597\n",
       "58783   2016  36783731"
      ]
     },
     "execution_count": 26,
     "metadata": {},
     "output_type": "execute_result"
    }
   ],
   "source": [
    "year = pd.Series(list_filename['filename'].str.slice(start=7, stop=11), name=\"year\")\n",
    "print(f\"Quantidade de valores nulos: {year[year.isnull()].count()}\")\n",
    "summary = pd.concat([year, size], axis=1)\n",
    "summary.sample(5)"
   ]
  },
  {
   "cell_type": "code",
   "execution_count": 27,
   "id": "6fe228cb",
   "metadata": {
    "ExecuteTime": {
     "end_time": "2022-04-30T13:14:30.319277Z",
     "start_time": "2022-04-30T13:14:30.302703Z"
    }
   },
   "outputs": [
    {
     "data": {
      "text/plain": [
       "year\n",
       "2015     804.910736\n",
       "2016    1186.154703\n",
       "2017    1022.907219\n",
       "2018     916.053842\n",
       "2019     233.205058\n",
       "Name: size, dtype: float64"
      ]
     },
     "execution_count": 27,
     "metadata": {},
     "output_type": "execute_result"
    }
   ],
   "source": [
    "# Soma do tamanho dos ficheiros por ano\n",
    "summary.groupby(\"year\")[\"size\"].sum() / 1024.0**3"
   ]
  },
  {
   "cell_type": "code",
   "execution_count": 28,
   "id": "30916a98",
   "metadata": {
    "ExecuteTime": {
     "end_time": "2022-04-30T13:15:24.844360Z",
     "start_time": "2022-04-30T13:15:24.823616Z"
    }
   },
   "outputs": [
    {
     "data": {
      "text/plain": [
       "year\n",
       "2015    30107\n",
       "2016    35090\n",
       "2017    34049\n",
       "2018    34048\n",
       "2019    10141\n",
       "Name: size, dtype: int64"
      ]
     },
     "execution_count": 28,
     "metadata": {},
     "output_type": "execute_result"
    }
   ],
   "source": [
    "# Quantidade de ficheiros por ano\n",
    "summary.groupby(\"year\")[\"size\"].count()"
   ]
  },
  {
   "cell_type": "markdown",
   "id": "91f21fbc",
   "metadata": {},
   "source": [
    "### Agrupamento por ano e mês"
   ]
  },
  {
   "cell_type": "code",
   "execution_count": 29,
   "id": "0a9f61d5",
   "metadata": {
    "ExecuteTime": {
     "end_time": "2022-04-30T13:19:13.672577Z",
     "start_time": "2022-04-30T13:19:13.625102Z"
    }
   },
   "outputs": [
    {
     "name": "stdout",
     "output_type": "stream",
     "text": [
      "Quantidade de valores nulos: 0\n"
     ]
    },
    {
     "data": {
      "text/html": [
       "<div>\n",
       "<style scoped>\n",
       "    .dataframe tbody tr th:only-of-type {\n",
       "        vertical-align: middle;\n",
       "    }\n",
       "\n",
       "    .dataframe tbody tr th {\n",
       "        vertical-align: top;\n",
       "    }\n",
       "\n",
       "    .dataframe thead th {\n",
       "        text-align: right;\n",
       "    }\n",
       "</style>\n",
       "<table border=\"1\" class=\"dataframe\">\n",
       "  <thead>\n",
       "    <tr style=\"text-align: right;\">\n",
       "      <th></th>\n",
       "      <th>year_month</th>\n",
       "      <th>size</th>\n",
       "    </tr>\n",
       "  </thead>\n",
       "  <tbody>\n",
       "    <tr>\n",
       "      <th>34218</th>\n",
       "      <td>201602</td>\n",
       "      <td>44443381</td>\n",
       "    </tr>\n",
       "    <tr>\n",
       "      <th>112266</th>\n",
       "      <td>201805</td>\n",
       "      <td>37263832</td>\n",
       "    </tr>\n",
       "    <tr>\n",
       "      <th>56294</th>\n",
       "      <td>201609</td>\n",
       "      <td>31730873</td>\n",
       "    </tr>\n",
       "    <tr>\n",
       "      <th>4613</th>\n",
       "      <td>201504</td>\n",
       "      <td>20242136</td>\n",
       "    </tr>\n",
       "    <tr>\n",
       "      <th>33404</th>\n",
       "      <td>201602</td>\n",
       "      <td>33225113</td>\n",
       "    </tr>\n",
       "  </tbody>\n",
       "</table>\n",
       "</div>"
      ],
      "text/plain": [
       "       year_month      size\n",
       "34218      201602  44443381\n",
       "112266     201805  37263832\n",
       "56294      201609  31730873\n",
       "4613       201504  20242136\n",
       "33404      201602  33225113"
      ]
     },
     "execution_count": 29,
     "metadata": {},
     "output_type": "execute_result"
    }
   ],
   "source": [
    "year_month = pd.Series(list_filename['filename'].str.slice(start=7, stop=13), name=\"year_month\")\n",
    "print(f\"Quantidade de valores nulos: {year_month[year_month.isnull()].count()}\")\n",
    "summary2 = pd.concat([year_month, size], axis=1)\n",
    "summary2.sample(5)"
   ]
  },
  {
   "cell_type": "code",
   "execution_count": 30,
   "id": "8e5bb1c5",
   "metadata": {
    "ExecuteTime": {
     "end_time": "2022-04-30T13:19:27.026605Z",
     "start_time": "2022-04-30T13:19:27.009099Z"
    },
    "scrolled": true
   },
   "outputs": [
    {
     "data": {
      "text/plain": [
       "year_month\n",
       "201502     22.550392\n",
       "201503     73.515927\n",
       "201504     69.020093\n",
       "201505     71.002230\n",
       "201506     70.839559\n",
       "201507     92.108864\n",
       "201508     82.498530\n",
       "201509     82.550022\n",
       "201510     81.370623\n",
       "201511     81.098707\n",
       "201512     78.355789\n",
       "201601     80.786035\n",
       "201602     85.680989\n",
       "201603     91.228398\n",
       "201604     95.966824\n",
       "201605    111.546812\n",
       "201606    107.600369\n",
       "201607    103.568461\n",
       "201608    106.400418\n",
       "201609    101.147179\n",
       "201610    104.076129\n",
       "201611    101.723961\n",
       "201612     96.429128\n",
       "201701    102.136230\n",
       "201702     97.878540\n",
       "201703    102.213628\n",
       "201704     88.539621\n",
       "201705     89.388645\n",
       "201706     84.251412\n",
       "201707     70.309095\n",
       "201708     78.266292\n",
       "201709     75.598354\n",
       "201710     80.340855\n",
       "201711     80.909507\n",
       "201712     73.075040\n",
       "201801     79.044870\n",
       "201802     75.501170\n",
       "201803     84.566465\n",
       "201804     79.368310\n",
       "201805     84.278939\n",
       "201806     79.454609\n",
       "201807     75.874994\n",
       "201808     75.767649\n",
       "201809     72.058220\n",
       "201810     76.717828\n",
       "201811     72.333935\n",
       "201812     61.086852\n",
       "201901     64.067552\n",
       "201902     63.617423\n",
       "201903     69.674237\n",
       "201904     35.845846\n",
       "Name: size, dtype: float64"
      ]
     },
     "execution_count": 30,
     "metadata": {},
     "output_type": "execute_result"
    }
   ],
   "source": [
    "summary2.groupby(\"year_month\")[\"size\"].sum() / 1024.0**3"
   ]
  },
  {
   "cell_type": "code",
   "execution_count": 31,
   "id": "a7d09f39",
   "metadata": {
    "ExecuteTime": {
     "end_time": "2022-04-30T13:19:49.850304Z",
     "start_time": "2022-04-30T13:19:49.833544Z"
    },
    "scrolled": true
   },
   "outputs": [
    {
     "data": {
      "text/plain": [
       "year_month\n",
       "201502     954\n",
       "201503    2974\n",
       "201504    2878\n",
       "201505    2940\n",
       "201506    2880\n",
       "201507    2975\n",
       "201508    2975\n",
       "201509    2880\n",
       "201510    2807\n",
       "201511    2876\n",
       "201512    2968\n",
       "201601    2968\n",
       "201602    2784\n",
       "201603    2973\n",
       "201604    2875\n",
       "201605    2971\n",
       "201606    2872\n",
       "201607    2972\n",
       "201608    2976\n",
       "201609    2876\n",
       "201610    2975\n",
       "201611    2873\n",
       "201612    2975\n",
       "201701    2976\n",
       "201702    2688\n",
       "201703    2953\n",
       "201704    2843\n",
       "201705    2907\n",
       "201706    2797\n",
       "201707    2829\n",
       "201708    2903\n",
       "201709    2800\n",
       "201710    2914\n",
       "201711    2748\n",
       "201712    2691\n",
       "201801    2751\n",
       "201802    2524\n",
       "201803    2831\n",
       "201804    2718\n",
       "201805    2853\n",
       "201806    2783\n",
       "201807    2913\n",
       "201808    2966\n",
       "201809    2880\n",
       "201810    2976\n",
       "201811    2880\n",
       "201812    2973\n",
       "201901    2976\n",
       "201902    2688\n",
       "201903    2975\n",
       "201904    1502\n",
       "Name: size, dtype: int64"
      ]
     },
     "execution_count": 31,
     "metadata": {},
     "output_type": "execute_result"
    }
   ],
   "source": [
    "summary2.groupby(\"year_month\")[\"size\"].count()"
   ]
  },
  {
   "cell_type": "markdown",
   "id": "41bc765c",
   "metadata": {},
   "source": [
    "### Agrupamento por ano, mês e dia"
   ]
  },
  {
   "cell_type": "code",
   "execution_count": 32,
   "id": "df8702de",
   "metadata": {
    "ExecuteTime": {
     "end_time": "2022-04-30T13:22:13.048650Z",
     "start_time": "2022-04-30T13:22:13.001475Z"
    }
   },
   "outputs": [
    {
     "name": "stdout",
     "output_type": "stream",
     "text": [
      "Quantidade de valores nulos: 0\n"
     ]
    },
    {
     "data": {
      "text/html": [
       "<div>\n",
       "<style scoped>\n",
       "    .dataframe tbody tr th:only-of-type {\n",
       "        vertical-align: middle;\n",
       "    }\n",
       "\n",
       "    .dataframe tbody tr th {\n",
       "        vertical-align: top;\n",
       "    }\n",
       "\n",
       "    .dataframe thead th {\n",
       "        text-align: right;\n",
       "    }\n",
       "</style>\n",
       "<table border=\"1\" class=\"dataframe\">\n",
       "  <thead>\n",
       "    <tr style=\"text-align: right;\">\n",
       "      <th></th>\n",
       "      <th>year_month_day</th>\n",
       "      <th>size</th>\n",
       "    </tr>\n",
       "  </thead>\n",
       "  <tbody>\n",
       "    <tr>\n",
       "      <th>114674</th>\n",
       "      <td>20180619</td>\n",
       "      <td>45718267</td>\n",
       "    </tr>\n",
       "    <tr>\n",
       "      <th>141897</th>\n",
       "      <td>20190331</td>\n",
       "      <td>16222848</td>\n",
       "    </tr>\n",
       "    <tr>\n",
       "      <th>98904</th>\n",
       "      <td>20171228</td>\n",
       "      <td>26039020</td>\n",
       "    </tr>\n",
       "    <tr>\n",
       "      <th>140068</th>\n",
       "      <td>20190312</td>\n",
       "      <td>32242249</td>\n",
       "    </tr>\n",
       "    <tr>\n",
       "      <th>93597</th>\n",
       "      <td>20171029</td>\n",
       "      <td>24929926</td>\n",
       "    </tr>\n",
       "  </tbody>\n",
       "</table>\n",
       "</div>"
      ],
      "text/plain": [
       "       year_month_day      size\n",
       "114674       20180619  45718267\n",
       "141897       20190331  16222848\n",
       "98904        20171228  26039020\n",
       "140068       20190312  32242249\n",
       "93597        20171029  24929926"
      ]
     },
     "execution_count": 32,
     "metadata": {},
     "output_type": "execute_result"
    }
   ],
   "source": [
    "year_month_day = pd.Series(list_filename['filename'].str.slice(start=7, stop=15), name=\"year_month_day\")\n",
    "print(f\"Quantidade de valores nulos: {year_month_day[year_month_day.isnull()].count()}\")\n",
    "summary3 = pd.concat([year_month_day, size], axis=1)\n",
    "summary3.sample(5)"
   ]
  },
  {
   "cell_type": "code",
   "execution_count": 33,
   "id": "20c6ea6d",
   "metadata": {
    "ExecuteTime": {
     "end_time": "2022-04-30T13:22:20.818856Z",
     "start_time": "2022-04-30T13:22:20.801207Z"
    }
   },
   "outputs": [
    {
     "data": {
      "text/plain": [
       "year_month_day\n",
       "20150218    0.126210\n",
       "20150219    2.448347\n",
       "20150220    2.461919\n",
       "20150221    1.519326\n",
       "20150222    1.386321\n",
       "              ...   \n",
       "20190412    2.630384\n",
       "20190413    1.504289\n",
       "20190414    1.342076\n",
       "20190415    2.327859\n",
       "20190416    1.443192\n",
       "Name: size, Length: 1519, dtype: float64"
      ]
     },
     "execution_count": 33,
     "metadata": {},
     "output_type": "execute_result"
    }
   ],
   "source": [
    "summary3.groupby(\"year_month_day\")[\"size\"].sum() / 1024.0**3"
   ]
  },
  {
   "cell_type": "code",
   "execution_count": 34,
   "id": "45157248",
   "metadata": {
    "ExecuteTime": {
     "end_time": "2022-04-30T13:22:29.675215Z",
     "start_time": "2022-04-30T13:22:29.656921Z"
    }
   },
   "outputs": [
    {
     "data": {
      "text/plain": [
       "year_month_day\n",
       "20150218     4\n",
       "20150219    86\n",
       "20150220    96\n",
       "20150221    96\n",
       "20150222    96\n",
       "            ..\n",
       "20190412    96\n",
       "20190413    96\n",
       "20190414    96\n",
       "20190415    96\n",
       "20190416    62\n",
       "Name: size, Length: 1519, dtype: int64"
      ]
     },
     "execution_count": 34,
     "metadata": {},
     "output_type": "execute_result"
    }
   ],
   "source": [
    "summary3.groupby(\"year_month_day\")[\"size\"].count()"
   ]
  },
  {
   "cell_type": "markdown",
   "id": "386734ba",
   "metadata": {},
   "source": [
    "## Exportar"
   ]
  },
  {
   "cell_type": "code",
   "execution_count": 40,
   "id": "1d359784",
   "metadata": {
    "ExecuteTime": {
     "end_time": "2022-04-30T13:54:07.362856Z",
     "start_time": "2022-04-30T13:54:07.178879Z"
    }
   },
   "outputs": [
    {
     "data": {
      "text/html": [
       "<div>\n",
       "<style scoped>\n",
       "    .dataframe tbody tr th:only-of-type {\n",
       "        vertical-align: middle;\n",
       "    }\n",
       "\n",
       "    .dataframe tbody tr th {\n",
       "        vertical-align: top;\n",
       "    }\n",
       "\n",
       "    .dataframe thead th {\n",
       "        text-align: right;\n",
       "    }\n",
       "</style>\n",
       "<table border=\"1\" class=\"dataframe\">\n",
       "  <thead>\n",
       "    <tr style=\"text-align: right;\">\n",
       "      <th></th>\n",
       "      <th>filename</th>\n",
       "      <th>size_b</th>\n",
       "      <th>year</th>\n",
       "      <th>year_month</th>\n",
       "      <th>year_month_day</th>\n",
       "    </tr>\n",
       "  </thead>\n",
       "  <tbody>\n",
       "    <tr>\n",
       "      <th>78315</th>\n",
       "      <td>20170518154500.gkg.csv</td>\n",
       "      <td>58171507</td>\n",
       "      <td>2017</td>\n",
       "      <td>201705</td>\n",
       "      <td>20170518</td>\n",
       "    </tr>\n",
       "    <tr>\n",
       "      <th>91909</th>\n",
       "      <td>20171011221500.gkg.csv</td>\n",
       "      <td>59097451</td>\n",
       "      <td>2017</td>\n",
       "      <td>201710</td>\n",
       "      <td>20171011</td>\n",
       "    </tr>\n",
       "    <tr>\n",
       "      <th>23653</th>\n",
       "      <td>20151025153000.gkg.csv</td>\n",
       "      <td>22068253</td>\n",
       "      <td>2015</td>\n",
       "      <td>201510</td>\n",
       "      <td>20151025</td>\n",
       "    </tr>\n",
       "    <tr>\n",
       "      <th>44064</th>\n",
       "      <td>20160525140000.gkg.csv</td>\n",
       "      <td>52775658</td>\n",
       "      <td>2016</td>\n",
       "      <td>201605</td>\n",
       "      <td>20160525</td>\n",
       "    </tr>\n",
       "    <tr>\n",
       "      <th>77992</th>\n",
       "      <td>20170515053000.gkg.csv</td>\n",
       "      <td>29694266</td>\n",
       "      <td>2017</td>\n",
       "      <td>201705</td>\n",
       "      <td>20170515</td>\n",
       "    </tr>\n",
       "  </tbody>\n",
       "</table>\n",
       "</div>"
      ],
      "text/plain": [
       "                     filename    size_b  year  year_month  year_month_day\n",
       "78315  20170518154500.gkg.csv  58171507  2017      201705        20170518\n",
       "91909  20171011221500.gkg.csv  59097451  2017      201710        20171011\n",
       "23653  20151025153000.gkg.csv  22068253  2015      201510        20151025\n",
       "44064  20160525140000.gkg.csv  52775658  2016      201605        20160525\n",
       "77992  20170515053000.gkg.csv  29694266  2017      201705        20170515"
      ]
     },
     "execution_count": 40,
     "metadata": {},
     "output_type": "execute_result"
    }
   ],
   "source": [
    "prefix = \"v2/gkg/\"\n",
    "summary4 = pd.concat([list_filename['filename'].str.replace(prefix, \"\"), \n",
    "                     list_filename['size_b'], \n",
    "                     pd.to_numeric(year), \n",
    "                     pd.to_numeric(year_month), \n",
    "                     pd.to_numeric(year_month_day)], axis=1)\n",
    "\n",
    "summary4.sample(5)"
   ]
  },
  {
   "cell_type": "code",
   "execution_count": 53,
   "id": "050ed242",
   "metadata": {
    "ExecuteTime": {
     "end_time": "2022-04-30T15:13:41.635548Z",
     "start_time": "2022-04-30T15:13:41.515504Z"
    }
   },
   "outputs": [
    {
     "name": "stdout",
     "output_type": "stream",
     "text": [
      "/mnt/c/Users/Rene Porto/OneDrive - ISCTE-IUL/Projecto Big Data\r\n"
     ]
    }
   ],
   "source": [
    "! pwd"
   ]
  },
  {
   "cell_type": "code",
   "execution_count": 61,
   "id": "62d19b6e",
   "metadata": {
    "ExecuteTime": {
     "end_time": "2022-04-30T15:33:09.056238Z",
     "start_time": "2022-04-30T15:33:08.709471Z"
    }
   },
   "outputs": [],
   "source": [
    "filepath = \"/mnt/c/Users/Rene Porto/OneDrive - ISCTE-IUL/Projecto Big Data/filename.csv\"\n",
    "summary4.to_csv(filepath, index=False)"
   ]
  },
  {
   "cell_type": "code",
   "execution_count": 60,
   "id": "2f3f8498",
   "metadata": {
    "ExecuteTime": {
     "end_time": "2022-04-30T15:16:10.633809Z",
     "start_time": "2022-04-30T15:16:10.507473Z"
    }
   },
   "outputs": [
    {
     "name": "stdout",
     "output_type": "stream",
     "text": [
      "-rwxrwxrwx 1 rene rene 7594121 Apr 30 16:14 '/mnt/c/Users/Rene Porto/OneDrive - ISCTE-IUL/Projecto Big Data/Data/filename.csv'\r\n"
     ]
    }
   ],
   "source": [
    "! ls -trla \"/mnt/c/Users/Rene Porto/OneDrive - ISCTE-IUL/Projecto Big Data/filename.csv\""
   ]
  },
  {
   "cell_type": "markdown",
   "id": "06295889",
   "metadata": {},
   "source": [
    "## Resumo\n",
    "\n",
    "Apesar do data set está a ser integrado a cada 15 minutos no repositório do projeto, os ficheiros que temos disponíveis são de notícias entre Fevereiro de 2015 e Abril de 2019, com um tamanho total de 4.163 Gygabytes.\n",
    "\n",
    "Baseado nestas informações, iremos fazer o download dos ficheiros do dia 12 de abril de 2019 como exemplo e analisar os registos."
   ]
  }
 ],
 "metadata": {
  "kernelspec": {
   "display_name": "Python 3 (ipykernel)",
   "language": "python",
   "name": "python3"
  },
  "language_info": {
   "codemirror_mode": {
    "name": "ipython",
    "version": 3
   },
   "file_extension": ".py",
   "mimetype": "text/x-python",
   "name": "python",
   "nbconvert_exporter": "python",
   "pygments_lexer": "ipython3",
   "version": "3.9.7"
  }
 },
 "nbformat": 4,
 "nbformat_minor": 5
}
